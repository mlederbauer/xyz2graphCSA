{
 "cells": [
  {
   "cell_type": "code",
   "execution_count": 4,
   "metadata": {},
   "outputs": [],
   "source": [
    "# run this in the env xyz2graphCSA env\n",
    "# sign up on plotly.com and insert your API key and username\n",
    "\n",
    "import chart_studio\n",
    "import chart_studio.plotly as py\n",
    "import chart_studio.tools as tls\n",
    "\n",
    "from xyz2graph import MolGraph, to_networkx_graph, to_plotly_figure\n",
    "from plotly.offline import offline\n",
    "import numpy as np\n",
    "\n",
    "username = 'mlederbauer'\n",
    "api_key = ''"
   ]
  },
  {
   "cell_type": "code",
   "execution_count": 2,
   "metadata": {},
   "outputs": [],
   "source": [
    "chart_studio.tools.set_credentials_file(username=username, api_key=api_key)"
   ]
  },
  {
   "cell_type": "code",
   "execution_count": 5,
   "metadata": {},
   "outputs": [],
   "source": [
    "mg = MolGraph()\n",
    "mg.read_xyz('../../ssNMR-ML/data/xTB/Run_2/optimized_structures/Mo_oct_imido1adamantyl_Cl_Cl_tertbutoxy9F_trifluoromethoxy_Et2O.xyz')\n",
    "\n",
    "matrix_values_M = [\n",
    "        [-0.154416, -0.246781, -0.956690],\n",
    "        [-0.165088,  0.961135, -0.221282],\n",
    "        [ 0.974116,  0.123768, -0.189155]\n",
    "]\n",
    "\n",
    "matrix_M = np.array(matrix_values_M)\n",
    "\n",
    "matrix_values_N = [\n",
    "        [-0.269881,  0.962894,  0.000071],\n",
    "        [-0.223755, -0.062786,  0.972621],\n",
    "        [ 0.936535,  0.262477,  0.232397]\n",
    "]\n",
    "\n",
    "matrix_N = np.array(matrix_values_N)\n",
    "\n",
    "index = 0\n",
    "\n",
    "fig = to_plotly_figure(mg,matrix_M,0)\n",
    "\n"
   ]
  },
  {
   "cell_type": "code",
   "execution_count": 6,
   "metadata": {},
   "outputs": [
    {
     "data": {
      "text/plain": [
       "'https://plotly.com/~mlederbauer/1/'"
      ]
     },
     "execution_count": 6,
     "metadata": {},
     "output_type": "execute_result"
    }
   ],
   "source": [
    "py.plot(fig, filename='Mo_oct_imido1adamantyl_Cl_Cl_tertbutoxy9F_trifluoromethoxy_Et2O', auto_open=True)\n",
    "\n",
    "# install/open Add-On WebViewer for Powerpoint and paste the link that is the output of this cell (WIHTOUT the https://) into the tba"
   ]
  }
 ],
 "metadata": {
  "kernelspec": {
   "display_name": "xyz2graphCSA",
   "language": "python",
   "name": "python3"
  },
  "language_info": {
   "codemirror_mode": {
    "name": "ipython",
    "version": 3
   },
   "file_extension": ".py",
   "mimetype": "text/x-python",
   "name": "python",
   "nbconvert_exporter": "python",
   "pygments_lexer": "ipython3",
   "version": "3.11.3"
  },
  "orig_nbformat": 4
 },
 "nbformat": 4,
 "nbformat_minor": 2
}
